{
 "cells": [
  {
   "cell_type": "markdown",
   "id": "generous-greeting",
   "metadata": {
    "_cell_guid": "b1076dfc-b9ad-4769-8c92-a6c4dae69d19",
    "_uuid": "8f2839f25d086af736a60e9eeb907d3b93b6e0e5",
    "papermill": {
     "duration": 0.04054,
     "end_time": "2021-04-25T07:29:46.867659",
     "exception": false,
     "start_time": "2021-04-25T07:29:46.827119",
     "status": "completed"
    },
    "tags": []
   },
   "source": [
    "# Principal Component Analysis\n",
    "* Principal Component Analysis (PCA) is a simple yet popular and useful linear transformation technique that is used in numerous applications, such as stock market predictions, the analysis of gene expression data, and many more\n",
    "* In this tutorial, we will see that PCA is not just a “black box”, and we are going to unravel its internals in 3 basic steps.\n",
    "* Large data  is useful but on computation it causes a lot of issue\n",
    "* PCA helps us to retain the correlation among the most important feature of the dataset\n",
    "# Linear Decomposition Analysis\n",
    "* LDA is linear transformation methods\n",
    "* LDA helps to find the direction which maximize the separation of different classes.\n",
    "* It helps in pattern classification\n",
    "* LDA determines the suitable feature of the dataset\n",
    "    "
   ]
  },
  {
   "cell_type": "markdown",
   "id": "loved-lighting",
   "metadata": {
    "papermill": {
     "duration": 0.023528,
     "end_time": "2021-04-25T07:29:46.920565",
     "exception": false,
     "start_time": "2021-04-25T07:29:46.897037",
     "status": "completed"
    },
    "tags": []
   },
   "source": [
    "# PCA and Dimensionality Reduction\n",
    "* he desired goal is to reduce the dimensions of a d-dimensional dataset by projecting it onto a (k)-dimensional subspace (where k<d)\n",
    "*  in order to increase the computational efficiency while retaining most of the information\n",
    "* An important question is “what is the size of k that represents the data ‘well’?”\n",
    "* Later, we will compute eigenvectors (the principal components) of a dataset and collect them in a projection matrix\n",
    "* If some eigenvalues have a significantly larger magnitude than others, then the reduction of the dataset via PCA onto a smaller dimensional subspace by dropping the “less informative” eigenpairs is reasonable.\n"
   ]
  },
  {
   "cell_type": "markdown",
   "id": "resistant-greenhouse",
   "metadata": {
    "papermill": {
     "duration": 0.023318,
     "end_time": "2021-04-25T07:29:46.968355",
     "exception": false,
     "start_time": "2021-04-25T07:29:46.945037",
     "status": "completed"
    },
    "tags": []
   },
   "source": [
    "# A Summary of the PCA Approach\n",
    "* Standardize the data.\n",
    "* Obtain the Eigenvectors and Eigenvalues from the covariance matrix or correlation matrix, or perform Singular Value Decomposition.\n",
    "* Sort eigenvalues in descending order and choose the k eigenvectors that correspond to the k largest eigenvalues where k is the number of dimensions of the new feature subspace (k≤d).\n",
    "* Construct the projection matrix W from the selected k eigenvectors.\n",
    "* Transform the original dataset X via W to obtain a k-dimensional feature subspace Y."
   ]
  },
  {
   "cell_type": "code",
   "execution_count": 1,
   "id": "right-peninsula",
   "metadata": {
    "execution": {
     "iopub.execute_input": "2021-04-25T07:29:47.021491Z",
     "iopub.status.busy": "2021-04-25T07:29:47.020156Z",
     "iopub.status.idle": "2021-04-25T07:29:48.001808Z",
     "shell.execute_reply": "2021-04-25T07:29:48.000875Z"
    },
    "papermill": {
     "duration": 1.00992,
     "end_time": "2021-04-25T07:29:48.001990",
     "exception": false,
     "start_time": "2021-04-25T07:29:46.992070",
     "status": "completed"
    },
    "tags": []
   },
   "outputs": [],
   "source": [
    "import pandas as pd\n",
    "import numpy as np\n",
    "import seaborn as sns\n",
    "import matplotlib.pyplot as plt"
   ]
  },
  {
   "cell_type": "code",
   "execution_count": 2,
   "id": "burning-nashville",
   "metadata": {
    "execution": {
     "iopub.execute_input": "2021-04-25T07:29:48.060158Z",
     "iopub.status.busy": "2021-04-25T07:29:48.058895Z",
     "iopub.status.idle": "2021-04-25T07:29:48.120858Z",
     "shell.execute_reply": "2021-04-25T07:29:48.121458Z"
    },
    "papermill": {
     "duration": 0.093925,
     "end_time": "2021-04-25T07:29:48.121643",
     "exception": false,
     "start_time": "2021-04-25T07:29:48.027718",
     "status": "completed"
    },
    "tags": []
   },
   "outputs": [
    {
     "data": {
      "text/html": [
       "<div>\n",
       "<style scoped>\n",
       "    .dataframe tbody tr th:only-of-type {\n",
       "        vertical-align: middle;\n",
       "    }\n",
       "\n",
       "    .dataframe tbody tr th {\n",
       "        vertical-align: top;\n",
       "    }\n",
       "\n",
       "    .dataframe thead th {\n",
       "        text-align: right;\n",
       "    }\n",
       "</style>\n",
       "<table border=\"1\" class=\"dataframe\">\n",
       "  <thead>\n",
       "    <tr style=\"text-align: right;\">\n",
       "      <th></th>\n",
       "      <th>sepal_length</th>\n",
       "      <th>sepal_width</th>\n",
       "      <th>petal_length</th>\n",
       "      <th>petal_width</th>\n",
       "      <th>species</th>\n",
       "    </tr>\n",
       "  </thead>\n",
       "  <tbody>\n",
       "    <tr>\n",
       "      <th>0</th>\n",
       "      <td>5.1</td>\n",
       "      <td>3.5</td>\n",
       "      <td>1.4</td>\n",
       "      <td>0.2</td>\n",
       "      <td>setosa</td>\n",
       "    </tr>\n",
       "    <tr>\n",
       "      <th>1</th>\n",
       "      <td>4.9</td>\n",
       "      <td>3.0</td>\n",
       "      <td>1.4</td>\n",
       "      <td>0.2</td>\n",
       "      <td>setosa</td>\n",
       "    </tr>\n",
       "    <tr>\n",
       "      <th>2</th>\n",
       "      <td>4.7</td>\n",
       "      <td>3.2</td>\n",
       "      <td>1.3</td>\n",
       "      <td>0.2</td>\n",
       "      <td>setosa</td>\n",
       "    </tr>\n",
       "    <tr>\n",
       "      <th>3</th>\n",
       "      <td>4.6</td>\n",
       "      <td>3.1</td>\n",
       "      <td>1.5</td>\n",
       "      <td>0.2</td>\n",
       "      <td>setosa</td>\n",
       "    </tr>\n",
       "    <tr>\n",
       "      <th>4</th>\n",
       "      <td>5.0</td>\n",
       "      <td>3.6</td>\n",
       "      <td>1.4</td>\n",
       "      <td>0.2</td>\n",
       "      <td>setosa</td>\n",
       "    </tr>\n",
       "  </tbody>\n",
       "</table>\n",
       "</div>"
      ],
      "text/plain": [
       "   sepal_length  sepal_width  petal_length  petal_width species\n",
       "0           5.1          3.5           1.4          0.2  setosa\n",
       "1           4.9          3.0           1.4          0.2  setosa\n",
       "2           4.7          3.2           1.3          0.2  setosa\n",
       "3           4.6          3.1           1.5          0.2  setosa\n",
       "4           5.0          3.6           1.4          0.2  setosa"
      ]
     },
     "execution_count": 2,
     "metadata": {},
     "output_type": "execute_result"
    }
   ],
   "source": [
    "df = sns.load_dataset('iris')\n",
    "#df=pd.read_csv('../input/iris-flower-dataset/IRIS.csv', sep=',')\n",
    "df.head()"
   ]
  },
  {
   "cell_type": "code",
   "execution_count": 3,
   "id": "respected-reform",
   "metadata": {
    "execution": {
     "iopub.execute_input": "2021-04-25T07:29:48.188772Z",
     "iopub.status.busy": "2021-04-25T07:29:48.187679Z",
     "iopub.status.idle": "2021-04-25T07:29:48.192251Z",
     "shell.execute_reply": "2021-04-25T07:29:48.192768Z"
    },
    "papermill": {
     "duration": 0.043032,
     "end_time": "2021-04-25T07:29:48.192955",
     "exception": false,
     "start_time": "2021-04-25T07:29:48.149923",
     "status": "completed"
    },
    "tags": []
   },
   "outputs": [
    {
     "data": {
      "text/plain": [
       "setosa        50\n",
       "versicolor    50\n",
       "virginica     50\n",
       "Name: species, dtype: int64"
      ]
     },
     "execution_count": 3,
     "metadata": {},
     "output_type": "execute_result"
    }
   ],
   "source": [
    "df['species'].value_counts()"
   ]
  },
  {
   "cell_type": "code",
   "execution_count": 4,
   "id": "liquid-supplier",
   "metadata": {
    "execution": {
     "iopub.execute_input": "2021-04-25T07:29:48.252355Z",
     "iopub.status.busy": "2021-04-25T07:29:48.251567Z",
     "iopub.status.idle": "2021-04-25T07:29:48.259200Z",
     "shell.execute_reply": "2021-04-25T07:29:48.260199Z"
    },
    "papermill": {
     "duration": 0.040531,
     "end_time": "2021-04-25T07:29:48.260427",
     "exception": false,
     "start_time": "2021-04-25T07:29:48.219896",
     "status": "completed"
    },
    "tags": []
   },
   "outputs": [
    {
     "data": {
      "text/plain": [
       "Index(['sepal_length', 'sepal_width', 'petal_length', 'petal_width',\n",
       "       'species'],\n",
       "      dtype='object')"
      ]
     },
     "execution_count": 4,
     "metadata": {},
     "output_type": "execute_result"
    }
   ],
   "source": [
    "df.columns"
   ]
  },
  {
   "cell_type": "code",
   "execution_count": 4,
   "id": "introductory-dubai",
   "metadata": {
    "execution": {
     "iopub.execute_input": "2021-04-25T07:29:48.319115Z",
     "iopub.status.busy": "2021-04-25T07:29:48.318403Z",
     "iopub.status.idle": "2021-04-25T07:29:48.324239Z",
     "shell.execute_reply": "2021-04-25T07:29:48.324793Z"
    },
    "papermill": {
     "duration": 0.038651,
     "end_time": "2021-04-25T07:29:48.325002",
     "exception": false,
     "start_time": "2021-04-25T07:29:48.286351",
     "status": "completed"
    },
    "tags": []
   },
   "outputs": [],
   "source": [
    "X=df.iloc[:,0:4].values\n",
    "y=df.iloc[:,4].values"
   ]
  },
  {
   "cell_type": "code",
   "execution_count": 6,
   "id": "everyday-horror",
   "metadata": {
    "execution": {
     "iopub.execute_input": "2021-04-25T07:29:48.382062Z",
     "iopub.status.busy": "2021-04-25T07:29:48.381329Z",
     "iopub.status.idle": "2021-04-25T07:29:49.327661Z",
     "shell.execute_reply": "2021-04-25T07:29:49.328445Z"
    },
    "papermill": {
     "duration": 0.976428,
     "end_time": "2021-04-25T07:29:49.328623",
     "exception": false,
     "start_time": "2021-04-25T07:29:48.352195",
     "status": "completed"
    },
    "tags": []
   },
   "outputs": [
    {
     "data": {
      "image/png": "[encoded data removed]",
      "text/plain": [
       "<Figure size 576x432 with 4 Axes>"
      ]
     },
     "metadata": {},
     "output_type": "display_data"
    }
   ],
   "source": [
    "label_dict={1: 'setosa',\n",
    "           2: 'virginica',\n",
    "           3: 'versicolor'}\n",
    "feature_dict={0: 'sepal_length',1: 'sepal_width',2: 'petal_length',3: 'petal_width'}\n",
    "\n",
    "with plt.style.context('seaborn-whitegrid'):\n",
    "    plt.figure(figsize=(8,6))\n",
    "    for i in range(4):\n",
    "        plt.subplot(2,2,i+1)\n",
    "        for lab in ('setosa','virginica','versicolor'):\n",
    "            plt.hist(X[y==lab, i],\n",
    "                    label=lab,\n",
    "                    bins=10,\n",
    "                    alpha=0.3)\n",
    "        plt.xlabel(feature_dict[i])\n",
    "    plt.legend(loc='upper right', fancybox=True,fontsize=8)\n",
    "    \n",
    "    plt.tight_layout()\n",
    "    plt.show()\n",
    "        "
   ]
  },
  {
   "cell_type": "code",
   "execution_count": 9,
   "id": "romance-mainstream",
   "metadata": {
    "execution": {
     "iopub.execute_input": "2021-04-25T07:29:49.548318Z",
     "iopub.status.busy": "2021-04-25T07:29:49.547567Z",
     "iopub.status.idle": "2021-04-25T07:29:49.714907Z",
     "shell.execute_reply": "2021-04-25T07:29:49.715530Z"
    },
    "papermill": {
     "duration": 0.201152,
     "end_time": "2021-04-25T07:29:49.715720",
     "exception": false,
     "start_time": "2021-04-25T07:29:49.514568",
     "status": "completed"
    },
    "tags": []
   },
   "outputs": [],
   "source": [
    "from sklearn.preprocessing import StandardScaler\n",
    "X_std=StandardScaler().fit_transform(X)"
   ]
  },
  {
   "cell_type": "code",
   "execution_count": 10,
   "id": "collectible-seeking",
   "metadata": {
    "execution": {
     "iopub.execute_input": "2021-04-25T07:29:49.776772Z",
     "iopub.status.busy": "2021-04-25T07:29:49.776073Z",
     "iopub.status.idle": "2021-04-25T07:29:49.783496Z",
     "shell.execute_reply": "2021-04-25T07:29:49.784319Z"
    },
    "papermill": {
     "duration": 0.039435,
     "end_time": "2021-04-25T07:29:49.784594",
     "exception": false,
     "start_time": "2021-04-25T07:29:49.745159",
     "status": "completed"
    },
    "tags": []
   },
   "outputs": [
    {
     "name": "stdout",
     "output_type": "stream",
     "text": [
      "Covariance Matrix \n",
      "[[ 1.00671141 -0.11835884  0.87760447  0.82343066]\n",
      " [-0.11835884  1.00671141 -0.43131554 -0.36858315]\n",
      " [ 0.87760447 -0.43131554  1.00671141  0.96932762]\n",
      " [ 0.82343066 -0.36858315  0.96932762  1.00671141]]\n"
     ]
    }
   ],
   "source": [
    "mean_vec=np.mean(X_std,axis=0)\n",
    "cov_mat=(X_std-mean_vec).T.dot((X_std-mean_vec))/(X_std.shape[0]-1)\n",
    "print(\"Covariance Matrix \\n%s\" %cov_mat)\n",
    "                 "
   ]
  },
  {
   "cell_type": "code",
   "execution_count": 11,
   "id": "agreed-logging",
   "metadata": {
    "execution": {
     "iopub.execute_input": "2021-04-25T07:29:49.849789Z",
     "iopub.status.busy": "2021-04-25T07:29:49.849125Z",
     "iopub.status.idle": "2021-04-25T07:29:49.858541Z",
     "shell.execute_reply": "2021-04-25T07:29:49.859256Z"
    },
    "papermill": {
     "duration": 0.042088,
     "end_time": "2021-04-25T07:29:49.859549",
     "exception": false,
     "start_time": "2021-04-25T07:29:49.817461",
     "status": "completed"
    },
    "tags": []
   },
   "outputs": [
    {
     "name": "stdout",
     "output_type": "stream",
     "text": [
      "Numpy Covariance matrix \n",
      "[[ 1.00671141 -0.11835884  0.87760447  0.82343066]\n",
      " [-0.11835884  1.00671141 -0.43131554 -0.36858315]\n",
      " [ 0.87760447 -0.43131554  1.00671141  0.96932762]\n",
      " [ 0.82343066 -0.36858315  0.96932762  1.00671141]]\n"
     ]
    }
   ],
   "source": [
    "print(\"Numpy Covariance matrix \\n%s\" %np.cov(X_std.T))"
   ]
  },
  {
   "cell_type": "markdown",
   "id": "atmospheric-refund",
   "metadata": {
    "papermill": {
     "duration": 0.028423,
     "end_time": "2021-04-25T07:29:49.919559",
     "exception": false,
     "start_time": "2021-04-25T07:29:49.891136",
     "status": "completed"
    },
    "tags": []
   },
   "source": [
    "Next, we perform an eigendecomposition on the covariance matrix:"
   ]
  },
  {
   "cell_type": "code",
   "execution_count": 12,
   "id": "accurate-trouble",
   "metadata": {
    "execution": {
     "iopub.execute_input": "2021-04-25T07:29:50.099192Z",
     "iopub.status.busy": "2021-04-25T07:29:50.097856Z",
     "iopub.status.idle": "2021-04-25T07:29:50.121124Z",
     "shell.execute_reply": "2021-04-25T07:29:50.120301Z"
    },
    "papermill": {
     "duration": 0.173301,
     "end_time": "2021-04-25T07:29:50.121306",
     "exception": false,
     "start_time": "2021-04-25T07:29:49.948005",
     "status": "completed"
    },
    "tags": []
   },
   "outputs": [
    {
     "name": "stdout",
     "output_type": "stream",
     "text": [
      "Eigenvectors \n",
      "[[ 0.52106591 -0.37741762 -0.71956635  0.26128628]\n",
      " [-0.26934744 -0.92329566  0.24438178 -0.12350962]\n",
      " [ 0.5804131  -0.02449161  0.14212637 -0.80144925]\n",
      " [ 0.56485654 -0.06694199  0.63427274  0.52359713]]\n",
      "Eigenvelues \n",
      "[2.93808505 0.9201649  0.14774182 0.02085386]\n"
     ]
    }
   ],
   "source": [
    "cov_mat=np.cov(X_std.T)\n",
    "\n",
    "eig_vals, eig_vecs=np.linalg.eig(cov_mat)\n",
    "\n",
    "print(\"Eigenvectors \\n%s\" %eig_vecs)\n",
    "print(\"Eigenvelues \\n%s\" %eig_vals)"
   ]
  },
  {
   "cell_type": "markdown",
   "id": "beginning-overall",
   "metadata": {
    "papermill": {
     "duration": 0.028568,
     "end_time": "2021-04-25T07:29:50.179206",
     "exception": false,
     "start_time": "2021-04-25T07:29:50.150638",
     "status": "completed"
    },
    "tags": []
   },
   "source": [
    "# Correlation Matrix"
   ]
  },
  {
   "cell_type": "code",
   "execution_count": 13,
   "id": "grateful-nightmare",
   "metadata": {
    "execution": {
     "iopub.execute_input": "2021-04-25T07:29:50.246481Z",
     "iopub.status.busy": "2021-04-25T07:29:50.245750Z",
     "iopub.status.idle": "2021-04-25T07:29:50.249066Z",
     "shell.execute_reply": "2021-04-25T07:29:50.249633Z"
    },
    "papermill": {
     "duration": 0.041401,
     "end_time": "2021-04-25T07:29:50.249809",
     "exception": false,
     "start_time": "2021-04-25T07:29:50.208408",
     "status": "completed"
    },
    "tags": []
   },
   "outputs": [
    {
     "name": "stdout",
     "output_type": "stream",
     "text": [
      "Eigenvectors \n",
      "[[ 0.52106591 -0.37741762 -0.71956635  0.26128628]\n",
      " [-0.26934744 -0.92329566  0.24438178 -0.12350962]\n",
      " [ 0.5804131  -0.02449161  0.14212637 -0.80144925]\n",
      " [ 0.56485654 -0.06694199  0.63427274  0.52359713]]\n",
      "Eigenvelues \n",
      "[2.91849782 0.91403047 0.14675688 0.02071484]\n"
     ]
    }
   ],
   "source": [
    "corr_mat1=np.corrcoef(X_std.T)\n",
    "\n",
    "eig_vals, eig_vecs=np.linalg.eig(corr_mat1)\n",
    "\n",
    "print(\"Eigenvectors \\n%s\" %eig_vecs)\n",
    "print(\"Eigenvelues \\n%s\" %eig_vals)"
   ]
  },
  {
   "cell_type": "markdown",
   "id": "chubby-smith",
   "metadata": {
    "papermill": {
     "duration": 0.030508,
     "end_time": "2021-04-25T07:29:50.311645",
     "exception": false,
     "start_time": "2021-04-25T07:29:50.281137",
     "status": "completed"
    },
    "tags": []
   },
   "source": [
    "# Eigendecomposition of the raw data based on the correlation matrix"
   ]
  },
  {
   "cell_type": "code",
   "execution_count": 14,
   "id": "detailed-reason",
   "metadata": {
    "execution": {
     "iopub.execute_input": "2021-04-25T07:29:50.378105Z",
     "iopub.status.busy": "2021-04-25T07:29:50.377407Z",
     "iopub.status.idle": "2021-04-25T07:29:50.380757Z",
     "shell.execute_reply": "2021-04-25T07:29:50.381359Z"
    },
    "papermill": {
     "duration": 0.040062,
     "end_time": "2021-04-25T07:29:50.381551",
     "exception": false,
     "start_time": "2021-04-25T07:29:50.341489",
     "status": "completed"
    },
    "tags": []
   },
   "outputs": [
    {
     "name": "stdout",
     "output_type": "stream",
     "text": [
      "Eigenvectors \n",
      "[[ 0.52106591 -0.37741762 -0.71956635  0.26128628]\n",
      " [-0.26934744 -0.92329566  0.24438178 -0.12350962]\n",
      " [ 0.5804131  -0.02449161  0.14212637 -0.80144925]\n",
      " [ 0.56485654 -0.06694199  0.63427274  0.52359713]]\n",
      "Eigenvelues \n",
      "[2.91849782 0.91403047 0.14675688 0.02071484]\n"
     ]
    }
   ],
   "source": [
    "cor_mat2=np.corrcoef(X.T)\n",
    "eig_vals, eig_vecs=np.linalg.eig(cor_mat2)\n",
    "\n",
    "print(\"Eigenvectors \\n%s\" %eig_vecs)\n",
    "print(\"Eigenvelues \\n%s\" %eig_vals)\n"
   ]
  },
  {
   "cell_type": "markdown",
   "id": "aquatic-frontier",
   "metadata": {
    "papermill": {
     "duration": 0.0305,
     "end_time": "2021-04-25T07:29:50.443157",
     "exception": false,
     "start_time": "2021-04-25T07:29:50.412657",
     "status": "completed"
    },
    "tags": []
   },
   "source": [
    "# We can clearly see that all three approaches yield the same eigenvectors and eigenvalue pairs:\n",
    "\n",
    "* Eigendecomposition of the covariance matrix after standardizing the data.\n",
    "* Eigendecomposition of the correlation matrix.\n",
    "* Eigendecomposition of the correlation matrix after standardizing the data."
   ]
  },
  {
   "cell_type": "markdown",
   "id": "legislative-ranch",
   "metadata": {
    "papermill": {
     "duration": 0.029533,
     "end_time": "2021-04-25T07:29:50.506403",
     "exception": false,
     "start_time": "2021-04-25T07:29:50.476870",
     "status": "completed"
    },
    "tags": []
   },
   "source": [
    "# Singular Value Decomposition"
   ]
  },
  {
   "cell_type": "markdown",
   "id": "alone-template",
   "metadata": {
    "papermill": {
     "duration": 0.030483,
     "end_time": "2021-04-25T07:29:50.568065",
     "exception": false,
     "start_time": "2021-04-25T07:29:50.537582",
     "status": "completed"
    },
    "tags": []
   },
   "source": [
    "While the eigendecomposition of the covariance or correlation matrix may be more intuitiuve, most PCA implementations perform a Singular Value Decomposition (SVD) to improve the computational efficiency. So, let us perform an SVD to confirm that the result are indeed the same:"
   ]
  },
  {
   "cell_type": "code",
   "execution_count": 15,
   "id": "minimal-pilot",
   "metadata": {
    "execution": {
     "iopub.execute_input": "2021-04-25T07:29:50.634512Z",
     "iopub.status.busy": "2021-04-25T07:29:50.633818Z",
     "iopub.status.idle": "2021-04-25T07:29:50.648912Z",
     "shell.execute_reply": "2021-04-25T07:29:50.649808Z"
    },
    "papermill": {
     "duration": 0.050223,
     "end_time": "2021-04-25T07:29:50.650109",
     "exception": false,
     "start_time": "2021-04-25T07:29:50.599886",
     "status": "completed"
    },
    "tags": []
   },
   "outputs": [
    {
     "data": {
      "text/plain": [
       "array([[-0.52106591, -0.37741762,  0.71956635,  0.26128628],\n",
       "       [ 0.26934744, -0.92329566, -0.24438178, -0.12350962],\n",
       "       [-0.5804131 , -0.02449161, -0.14212637, -0.80144925],\n",
       "       [-0.56485654, -0.06694199, -0.63427274,  0.52359713]])"
      ]
     },
     "execution_count": 15,
     "metadata": {},
     "output_type": "execute_result"
    }
   ],
   "source": [
    "u, s, v=np.linalg.svd(X_std.T)\n",
    "u"
   ]
  },
  {
   "cell_type": "markdown",
   "id": "stuck-landscape",
   "metadata": {
    "papermill": {
     "duration": 0.055904,
     "end_time": "2021-04-25T07:29:50.761153",
     "exception": false,
     "start_time": "2021-04-25T07:29:50.705249",
     "status": "completed"
    },
    "tags": []
   },
   "source": [
    "# Sorting Eigenpairs\n",
    "The typical goal of a PCA is to reduce the dimensionality of the original feature space by projecting it onto a smaller subspace, where the eigenvectors will form the axes. However, the eigenvectors only define the directions of the new axis, since they have all the same unit length 1, which can confirmed by the following two lines of code"
   ]
  },
  {
   "cell_type": "code",
   "execution_count": 16,
   "id": "brief-newcastle",
   "metadata": {
    "execution": {
     "iopub.execute_input": "2021-04-25T07:29:50.832806Z",
     "iopub.status.busy": "2021-04-25T07:29:50.832090Z",
     "iopub.status.idle": "2021-04-25T07:29:50.836885Z",
     "shell.execute_reply": "2021-04-25T07:29:50.836217Z"
    },
    "papermill": {
     "duration": 0.044664,
     "end_time": "2021-04-25T07:29:50.837026",
     "exception": false,
     "start_time": "2021-04-25T07:29:50.792362",
     "status": "completed"
    },
    "tags": []
   },
   "outputs": [
    {
     "name": "stdout",
     "output_type": "stream",
     "text": [
      "Everithing is ok\n"
     ]
    }
   ],
   "source": [
    "for ev in eig_vecs.T:\n",
    "    np.testing.assert_array_almost_equal(1.0, np.linalg.norm(ev))\n",
    "print(\"Everithing is ok\")"
   ]
  },
  {
   "cell_type": "code",
   "execution_count": 17,
   "id": "theoretical-ethiopia",
   "metadata": {
    "execution": {
     "iopub.execute_input": "2021-04-25T07:29:50.914649Z",
     "iopub.status.busy": "2021-04-25T07:29:50.913813Z",
     "iopub.status.idle": "2021-04-25T07:29:50.917887Z",
     "shell.execute_reply": "2021-04-25T07:29:50.918427Z"
    },
    "papermill": {
     "duration": 0.045661,
     "end_time": "2021-04-25T07:29:50.918612",
     "exception": false,
     "start_time": "2021-04-25T07:29:50.872951",
     "status": "completed"
    },
    "tags": []
   },
   "outputs": [
    {
     "name": "stdout",
     "output_type": "stream",
     "text": [
      "Eigenvalues in descending order:\n",
      "2.918497816531995\n",
      "0.9140304714680693\n",
      "0.14675687557131534\n",
      "0.0207148364286194\n"
     ]
    }
   ],
   "source": [
    "# Make a list of (eigenvalue, eigenvector) tuples\n",
    "eig_pairs = [(np.abs(eig_vals[i]), eig_vecs[:,i]) for i in range(len(eig_vals))]\n",
    "\n",
    "# Sort the (eigenvalue, eigenvector) tuples from high to low\n",
    "eig_pairs.sort(key=lambda x: x[0], reverse=True)\n",
    "\n",
    "# Visually confirm that the list is correctly sorted by decreasing eigenvalues\n",
    "print('Eigenvalues in descending order:')\n",
    "for i in eig_pairs:\n",
    "    print(i[0])"
   ]
  },
  {
   "cell_type": "markdown",
   "id": "white-kuwait",
   "metadata": {
    "papermill": {
     "duration": 0.031882,
     "end_time": "2021-04-25T07:29:50.983717",
     "exception": false,
     "start_time": "2021-04-25T07:29:50.951835",
     "status": "completed"
    },
    "tags": []
   },
   "source": [
    "# Explained Variance: \n",
    "After sorting the eigenpairs, the next question is “how many principal components are we going to choose for our new feature subspace?” A useful measure is the so-called “explained variance,” which can be calculated from the eigenvalues. The explained variance tells us how much information (variance) can be attributed to each of the principal components."
   ]
  },
  {
   "cell_type": "code",
   "execution_count": 18,
   "id": "organic-boating",
   "metadata": {
    "execution": {
     "iopub.execute_input": "2021-04-25T07:29:51.057995Z",
     "iopub.status.busy": "2021-04-25T07:29:51.057336Z",
     "iopub.status.idle": "2021-04-25T07:29:51.060861Z",
     "shell.execute_reply": "2021-04-25T07:29:51.060349Z"
    },
    "papermill": {
     "duration": 0.042939,
     "end_time": "2021-04-25T07:29:51.061002",
     "exception": false,
     "start_time": "2021-04-25T07:29:51.018063",
     "status": "completed"
    },
    "tags": []
   },
   "outputs": [],
   "source": [
    "tot = sum(eig_vals)\n",
    "var_exp = [(i / tot)*100 for i in sorted(eig_vals, reverse=True)]\n",
    "cum_var_exp = np.cumsum(var_exp)"
   ]
  },
  {
   "cell_type": "code",
   "execution_count": 19,
   "id": "soviet-directive",
   "metadata": {
    "execution": {
     "iopub.execute_input": "2021-04-25T07:29:51.163589Z",
     "iopub.status.busy": "2021-04-25T07:29:51.161799Z",
     "iopub.status.idle": "2021-04-25T07:29:51.368342Z",
     "shell.execute_reply": "2021-04-25T07:29:51.368854Z"
    },
    "papermill": {
     "duration": 0.276392,
     "end_time": "2021-04-25T07:29:51.369047",
     "exception": false,
     "start_time": "2021-04-25T07:29:51.092655",
     "status": "completed"
    },
    "tags": []
   },
   "outputs": [
    {
     "data": {
      "image/png": "[encoded data removed]",
      "text/plain": [
       "<Figure size 432x288 with 1 Axes>"
      ]
     },
     "metadata": {},
     "output_type": "display_data"
    }
   ],
   "source": [
    "with plt.style.context('seaborn-whitegrid'):\n",
    "    plt.figure(figsize=(6, 4))\n",
    "\n",
    "    plt.bar(range(4), var_exp, alpha=0.5, align='center',\n",
    "            label='individual explained variance')\n",
    "    plt.step(range(4), cum_var_exp, where='mid',\n",
    "             label='cumulative explained variance')\n",
    "    plt.ylabel('Explained variance ratio')\n",
    "    plt.xlabel('Principal components')\n",
    "    plt.legend(loc='best')\n",
    "    plt.tight_layout()"
   ]
  },
  {
   "cell_type": "markdown",
   "id": "widespread-wings",
   "metadata": {
    "papermill": {
     "duration": 0.033821,
     "end_time": "2021-04-25T07:29:51.437516",
     "exception": false,
     "start_time": "2021-04-25T07:29:51.403695",
     "status": "completed"
    },
    "tags": []
   },
   "source": [
    "The plot above clearly shows that most of the variance (72.77% of the variance to be precise) can be explained by the first principal component alone. The second principal component still bears some information (23.03%) while the third and fourth principal components can safely be dropped without losing to much information. Together, the first two principal components contain 95.8% of the information."
   ]
  },
  {
   "cell_type": "markdown",
   "id": "certain-maryland",
   "metadata": {
    "papermill": {
     "duration": 0.033145,
     "end_time": "2021-04-25T07:29:51.506104",
     "exception": false,
     "start_time": "2021-04-25T07:29:51.472959",
     "status": "completed"
    },
    "tags": []
   },
   "source": [
    "# Projection Matrix"
   ]
  },
  {
   "cell_type": "markdown",
   "id": "surrounded-nigeria",
   "metadata": {
    "papermill": {
     "duration": 0.033352,
     "end_time": "2021-04-25T07:29:51.574306",
     "exception": false,
     "start_time": "2021-04-25T07:29:51.540954",
     "status": "completed"
    },
    "tags": []
   },
   "source": [
    "It’s about time to get to the really interesting part: The construction of the projection matrix that will be used to transform the Iris data onto the new feature subspace. Although, the name “projection matrix” has a nice ring to it, it is basically just a matrix of our concatenated top k eigenvectors."
   ]
  },
  {
   "cell_type": "code",
   "execution_count": 20,
   "id": "arctic-senegal",
   "metadata": {
    "execution": {
     "iopub.execute_input": "2021-04-25T07:29:51.647841Z",
     "iopub.status.busy": "2021-04-25T07:29:51.647060Z",
     "iopub.status.idle": "2021-04-25T07:29:51.655188Z",
     "shell.execute_reply": "2021-04-25T07:29:51.655783Z"
    },
    "papermill": {
     "duration": 0.047521,
     "end_time": "2021-04-25T07:29:51.656002",
     "exception": false,
     "start_time": "2021-04-25T07:29:51.608481",
     "status": "completed"
    },
    "tags": []
   },
   "outputs": [
    {
     "name": "stdout",
     "output_type": "stream",
     "text": [
      "Matrix W:\n",
      " [[ 0.52106591 -0.37741762]\n",
      " [-0.26934744 -0.92329566]\n",
      " [ 0.5804131  -0.02449161]\n",
      " [ 0.56485654 -0.06694199]]\n"
     ]
    }
   ],
   "source": [
    "matrix_w = np.hstack((eig_pairs[0][1].reshape(4,1),\n",
    "                      eig_pairs[1][1].reshape(4,1)))\n",
    "\n",
    "print('Matrix W:\\n', matrix_w)"
   ]
  },
  {
   "cell_type": "markdown",
   "id": "noticed-clarity",
   "metadata": {
    "papermill": {
     "duration": 0.035006,
     "end_time": "2021-04-25T07:29:51.727463",
     "exception": false,
     "start_time": "2021-04-25T07:29:51.692457",
     "status": "completed"
    },
    "tags": []
   },
   "source": [
    "# Projection Onto the New Feature Space\n",
    "n this last step we will use the 4×2-dimensional projection matrix W to transform our samples onto the new subspace via the equation\n",
    "Y=X×W, where Y is a 150×2 matrix of our transformed samples."
   ]
  },
  {
   "cell_type": "code",
   "execution_count": 21,
   "id": "criminal-reason",
   "metadata": {
    "execution": {
     "iopub.execute_input": "2021-04-25T07:29:51.806605Z",
     "iopub.status.busy": "2021-04-25T07:29:51.805911Z",
     "iopub.status.idle": "2021-04-25T07:29:51.809185Z",
     "shell.execute_reply": "2021-04-25T07:29:51.808631Z"
    },
    "papermill": {
     "duration": 0.046196,
     "end_time": "2021-04-25T07:29:51.809364",
     "exception": false,
     "start_time": "2021-04-25T07:29:51.763168",
     "status": "completed"
    },
    "tags": []
   },
   "outputs": [],
   "source": [
    "Y = X_std.dot(matrix_w)\n"
   ]
  },
  {
   "cell_type": "code",
   "execution_count": 23,
   "id": "religious-insight",
   "metadata": {
    "execution": {
     "iopub.execute_input": "2021-04-25T07:29:51.892413Z",
     "iopub.status.busy": "2021-04-25T07:29:51.891693Z",
     "iopub.status.idle": "2021-04-25T07:29:52.145038Z",
     "shell.execute_reply": "2021-04-25T07:29:52.145554Z"
    },
    "papermill": {
     "duration": 0.299046,
     "end_time": "2021-04-25T07:29:52.145743",
     "exception": false,
     "start_time": "2021-04-25T07:29:51.846697",
     "status": "completed"
    },
    "tags": []
   },
   "outputs": [
    {
     "data": {
      "image/png": "[encoded data removed]",
      "text/plain": [
       "<Figure size 432x288 with 1 Axes>"
      ]
     },
     "metadata": {},
     "output_type": "display_data"
    }
   ],
   "source": [
    "with plt.style.context('seaborn-whitegrid'):\n",
    "    plt.figure(figsize=(6, 4))\n",
    "    for lab, col in zip(('setosa', 'versicolor', 'virginica'),\n",
    "                        ('blue', 'red', 'green')):\n",
    "        plt.scatter(Y[y==lab, 0],\n",
    "                    Y[y==lab, 1],\n",
    "                    label=lab,\n",
    "                    c=col)\n",
    "    plt.xlabel('Principal Component 1')\n",
    "    plt.ylabel('Principal Component 2')\n",
    "    plt.legend(loc='lower center')\n",
    "    plt.tight_layout()\n",
    "    plt.show()"
   ]
  },
  {
   "cell_type": "markdown",
   "id": "extraordinary-hepatitis",
   "metadata": {
    "papermill": {
     "duration": 0.036664,
     "end_time": "2021-04-25T07:29:52.217703",
     "exception": false,
     "start_time": "2021-04-25T07:29:52.181039",
     "status": "completed"
    },
    "tags": []
   },
   "source": [
    "# Shortcut - PCA in scikit-learn"
   ]
  },
  {
   "cell_type": "code",
   "execution_count": 24,
   "id": "initial-spare",
   "metadata": {
    "execution": {
     "iopub.execute_input": "2021-04-25T07:29:52.295994Z",
     "iopub.status.busy": "2021-04-25T07:29:52.295188Z",
     "iopub.status.idle": "2021-04-25T07:29:52.536439Z",
     "shell.execute_reply": "2021-04-25T07:29:52.536924Z"
    },
    "papermill": {
     "duration": 0.281601,
     "end_time": "2021-04-25T07:29:52.537134",
     "exception": false,
     "start_time": "2021-04-25T07:29:52.255533",
     "status": "completed"
    },
    "tags": []
   },
   "outputs": [],
   "source": [
    "from sklearn.decomposition import PCA as sklearnPCA\n",
    "sklearn_pca = sklearnPCA(n_components=2)\n",
    "Y_sklearn = sklearn_pca.fit_transform(X_std)"
   ]
  },
  {
   "cell_type": "code",
   "execution_count": 23,
   "id": "still-enhancement",
   "metadata": {
    "execution": {
     "iopub.execute_input": "2021-04-25T07:29:52.614535Z",
     "iopub.status.busy": "2021-04-25T07:29:52.613752Z",
     "iopub.status.idle": "2021-04-25T07:29:52.940607Z",
     "shell.execute_reply": "2021-04-25T07:29:52.940010Z"
    },
    "papermill": {
     "duration": 0.368588,
     "end_time": "2021-04-25T07:29:52.940784",
     "exception": false,
     "start_time": "2021-04-25T07:29:52.572196",
     "status": "completed"
    },
    "tags": []
   },
   "outputs": [
    {
     "data": {
      "image/png": "[encoded data removed]",
      "text/plain": [
       "<Figure size 432x288 with 1 Axes>"
      ]
     },
     "metadata": {},
     "output_type": "display_data"
    }
   ],
   "source": [
    "with plt.style.context('seaborn-whitegrid'):\n",
    "    plt.figure(figsize=(6, 4))\n",
    "    for lab, col in zip(('Iris-setosa', 'Iris-versicolor', 'Iris-virginica'),\n",
    "                        ('blue', 'red', 'green')):\n",
    "        plt.scatter(Y_sklearn[y==lab, 0],\n",
    "                    Y_sklearn[y==lab, 1],\n",
    "                    label=lab,\n",
    "                    c=col)\n",
    "    plt.xlabel('Principal Component 1')\n",
    "    plt.ylabel('Principal Component 2')\n",
    "    plt.legend(loc='upper center')\n",
    "    plt.tight_layout()\n",
    "    plt.show()\n"
   ]
  },
  {
   "cell_type": "markdown",
   "id": "august-satellite",
   "metadata": {
    "papermill": {
     "duration": 0.037364,
     "end_time": "2021-04-25T07:29:53.015333",
     "exception": false,
     "start_time": "2021-04-25T07:29:52.977969",
     "status": "completed"
    },
    "tags": []
   },
   "source": [
    "# Conclusion \n",
    "* It helps us to reduce the dimesion of tha dataset\n"
   ]
  },
  {
   "cell_type": "code",
   "execution_count": null,
   "id": "0bf83e8d",
   "metadata": {},
   "outputs": [],
   "source": []
  }
 ],
 "metadata": {
  "kernelspec": {
   "display_name": "Python 3 (ipykernel)",
   "language": "python",
   "name": "python3"
  },
  "language_info": {
   "codemirror_mode": {
    "name": "ipython",
    "version": 3
   },
   "file_extension": ".py",
   "mimetype": "text/x-python",
   "name": "python",
   "nbconvert_exporter": "python",
   "pygments_lexer": "ipython3",
   "version": "3.9.6"
  },
  "papermill": {
   "default_parameters": {},
   "duration": 16.653355,
   "end_time": "2021-04-25T07:29:53.862865",
   "environment_variables": {},
   "exception": null,
   "input_path": "__notebook__.ipynb",
   "output_path": "__notebook__.ipynb",
   "parameters": {},
   "start_time": "2021-04-25T07:29:37.209510",
   "version": "2.3.3"
  }
 },
 "nbformat": 4,
 "nbformat_minor": 5
}
