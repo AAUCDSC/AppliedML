{
 "cells": [
  {
   "cell_type": "markdown",
   "id": "0c6bfe77",
   "metadata": {
    "deletable": false,
    "editable": false,
    "nbgrader": {
     "cell_type": "markdown",
     "checksum": "a27e2c6b5eb2ee416b8349fa9cd1cd04",
     "grade": false,
     "grade_id": "project",
     "locked": true,
     "schema_version": 3,
     "solution": false,
     "task": false
    }
   },
   "source": [
    "# Project on Ensembled Machine Learing Techniques\n",
    "\n",
    "## Selling personal loans \n",
    "\n",
    "The  given ***project1.xlsx*** file contains data on 5000 customers of a bank with demographic information such as age, income, etc., thier relationship with the bank like mortgage, securities account, etc., and the  response to the last personal loan campaign. Among these 5000 customers, only 480 accepted the personal loan that was offered to them in the earlier campaign. The number of customers who are also borrowers is quite small, and the bank is interested in expanding this base rapidly to bring in more loan business and in the process, earn more through the interest on loans. Thus, the marketing departement \n",
    "\n",
    "\n",
    "### Using the information provided above, follow the steps given below:\n",
    "1.\tGive descriptive explanaition of all the columns and ensure you understand each attribute well.\n",
    "2.\tStudy the data distribution in each attribute, share your findings.\n",
    "3.\tIdentify  the target column distribution.\n",
    "4.\tSplit the data into training and test set in the ratio of 70:30 respectively.\n",
    "5.\tUse a different classification models to predict the likelihood of a liability customer buying personal loans.\n",
    "6.\tExplain why you chose one model over the other (do not use ensemble techniques yet).\n",
    "7.\tFinally apply ensemble techniques to improve the performance.\n",
    "\n",
    "\n",
    "**Deadline August 31, 2021**\n",
    "\n",
    "\n",
    "\n",
    "\n",
    "\n",
    "\n",
    "\n"
   ]
  }
 ],
 "metadata": {
  "kernelspec": {
   "display_name": "Python 3 (ipykernel)",
   "language": "python",
   "name": "python3"
  },
  "language_info": {
   "codemirror_mode": {
    "name": "ipython",
    "version": 3
   },
   "file_extension": ".py",
   "mimetype": "text/x-python",
   "name": "python",
   "nbconvert_exporter": "python",
   "pygments_lexer": "ipython3",
   "version": "3.9.6"
  }
 },
 "nbformat": 4,
 "nbformat_minor": 5
}
