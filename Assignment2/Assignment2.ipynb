{
 "cells": [
  {
   "cell_type": "markdown",
   "id": "8fba65cf",
   "metadata": {
    "deletable": false,
    "editable": false,
    "nbgrader": {
     "cell_type": "markdown",
     "checksum": "168b789c589a879a21b88691d23db4d6",
     "grade": false,
     "grade_id": "name",
     "locked": true,
     "schema_version": 3,
     "solution": false,
     "task": false
    }
   },
   "source": [
    "# Assignment2\n",
    "## k-Nearest-Neighbours algorithm\n",
    "\n",
    "k-nearest neighbors (KNN) algorithm is a type of supervised ML algorithm which can be used for both classification as well as regression predictive problems. However, it is mainly used for classification predictive problems in industry.\n",
    "\n",
    "**Deadline August 26, 2021**"
   ]
  },
  {
   "cell_type": "markdown",
   "id": "8d25e2a0",
   "metadata": {},
   "source": [
    "###  By: \"YOUR NAME and ID\""
   ]
  },
  {
   "cell_type": "markdown",
   "id": "33c67b1e",
   "metadata": {
    "deletable": false,
    "editable": false,
    "nbgrader": {
     "cell_type": "markdown",
     "checksum": "34136f58d57db1c5e7afb2cc5d0e9f14",
     "grade": false,
     "grade_id": "notice",
     "locked": true,
     "schema_version": 3,
     "solution": false,
     "task": false
    }
   },
   "source": [
    "Here, the necessary  python packages and dataset is pre-loaded for you."
   ]
  },
  {
   "cell_type": "code",
   "execution_count": null,
   "id": "e5082101",
   "metadata": {
    "deletable": false,
    "editable": false,
    "nbgrader": {
     "cell_type": "code",
     "checksum": "c01c75dffc690723e1de4df730fe1617",
     "grade": false,
     "grade_id": "module",
     "locked": true,
     "schema_version": 3,
     "solution": false,
     "task": false
    }
   },
   "outputs": [],
   "source": [
    "import numpy as np\n",
    "import pandas as pd\n",
    "import seaborn as sns\n",
    "from sklearn import datasets\n",
    "import matplotlib.pyplot as plt\n",
    "from sklearn.neighbors import KNeighborsClassifier\n",
    "from sklearn.decomposition import PCA\n",
    "sns.set_style('whitegrid')\n",
    "df = sns.load_dataset('iris')\n",
    "df.head()"
   ]
  },
  {
   "cell_type": "markdown",
   "id": "629b6650",
   "metadata": {
    "deletable": false,
    "editable": false,
    "nbgrader": {
     "cell_type": "markdown",
     "checksum": "b180777a9616fadfc7f1f32be7014283",
     "grade": false,
     "grade_id": "cell-1f4b790c80387141",
     "locked": true,
     "schema_version": 3,
     "solution": false,
     "task": false
    }
   },
   "source": [
    "By using a label encoding  preprocessing technique, encode the species column and make the dataset ready for knn algorithm "
   ]
  },
  {
   "cell_type": "code",
   "execution_count": null,
   "id": "8ff5695b",
   "metadata": {
    "deletable": false,
    "nbgrader": {
     "cell_type": "code",
     "checksum": "987e65bb6bca245df4a5c25a0741ab6a",
     "grade": false,
     "grade_id": "preprocessing",
     "locked": false,
     "schema_version": 3,
     "solution": true,
     "task": false
    }
   },
   "outputs": [],
   "source": [
    "# YOUR CODE HERE\n",
    "raise NotImplementedError()"
   ]
  },
  {
   "cell_type": "code",
   "execution_count": null,
   "id": "14a2c07e",
   "metadata": {
    "deletable": false,
    "editable": false,
    "nbgrader": {
     "cell_type": "code",
     "checksum": "82ac6cec548df00d06af46802cf67c8b",
     "grade": true,
     "grade_id": "preprocessingA",
     "locked": true,
     "points": 10,
     "schema_version": 3,
     "solution": false,
     "task": false
    }
   },
   "outputs": [],
   "source": [
    "assert df.species.sum() == 150"
   ]
  },
  {
   "cell_type": "markdown",
   "id": "f8a23b8b",
   "metadata": {
    "deletable": false,
    "editable": false,
    "nbgrader": {
     "cell_type": "markdown",
     "checksum": "d2a0250f056b225080a219d1448217cb",
     "grade": false,
     "grade_id": "splitting",
     "locked": true,
     "schema_version": 3,
     "solution": false,
     "task": false
    }
   },
   "source": [
    "After preparing the feature vectors as \"X\" and the target variable as \"y\" for classification, fit a k-Nearest-Neighbours(knn) classifier with n_neighbors equal to 50."
   ]
  },
  {
   "cell_type": "code",
   "execution_count": null,
   "id": "52f3a279",
   "metadata": {
    "deletable": false,
    "nbgrader": {
     "cell_type": "code",
     "checksum": "8ae31b631a45128ce20e4e6e6fb8168a",
     "grade": false,
     "grade_id": "KNN",
     "locked": false,
     "schema_version": 3,
     "solution": true,
     "task": false
    }
   },
   "outputs": [],
   "source": [
    "# YOUR CODE HERE\n",
    "raise NotImplementedError()"
   ]
  },
  {
   "cell_type": "code",
   "execution_count": null,
   "id": "86dd10d5",
   "metadata": {
    "deletable": false,
    "editable": false,
    "nbgrader": {
     "cell_type": "code",
     "checksum": "39d5c8582fb8bfc0a90d22fa5539e12d",
     "grade": false,
     "grade_id": "cell-380400ea426b5f2e",
     "locked": true,
     "schema_version": 3,
     "solution": false,
     "task": false
    }
   },
   "outputs": [],
   "source": [
    "\n",
    "Xv = X.values.reshape(-1,1)\n",
    "h = 0.02\n",
    "x_min, x_max = Xv.min(), Xv.max() + 1\n",
    "y_min, y_max = y.min(), y.max() + 1\n",
    "xx, yy = np.meshgrid(np.arange(x_min, x_max, h),\n",
    "                     np.arange(y_min, y_max, h))\n",
    "\n",
    "z = knn.predict(np.c_[xx.ravel(), yy.ravel()])\n",
    "z = z.reshape(xx.shape)"
   ]
  },
  {
   "cell_type": "code",
   "execution_count": null,
   "id": "8d64e03b",
   "metadata": {
    "deletable": false,
    "editable": false,
    "nbgrader": {
     "cell_type": "code",
     "checksum": "094156c9cea0ec7842afc1dd87fb34d6",
     "grade": true,
     "grade_id": "cell-7f962c2900d6f8f1",
     "locked": true,
     "points": 10,
     "schema_version": 3,
     "solution": false,
     "task": false
    }
   },
   "outputs": [],
   "source": [
    "assert z.argmax() == 298"
   ]
  },
  {
   "cell_type": "code",
   "execution_count": null,
   "id": "755e8a2f",
   "metadata": {},
   "outputs": [],
   "source": [
    "\n",
    "\n",
    "fig = plt.figure(figsize=(8,5))\n",
    "\n",
    "ax = plt.contourf(xx, yy, z, cmap = 'afmhot', alpha=0.3, \n",
    "                  );\n",
    "plt.scatter(X.values[:, 0], X.values[:, 1], c=y, s=40, \n",
    "            alpha=0.9, edgecolors='k');"
   ]
  },
  {
   "cell_type": "markdown",
   "id": "6cb5e0a0",
   "metadata": {
    "deletable": false,
    "editable": false,
    "nbgrader": {
     "cell_type": "markdown",
     "checksum": "2fb2fd371343a9e36a522b3396debc1a",
     "grade": false,
     "grade_id": "pea",
     "locked": true,
     "schema_version": 3,
     "solution": false,
     "task": false
    }
   },
   "source": [
    "## PCA\n",
    "\n",
    "Principal component analysis is a fast and flexible unsupervised method for dimensionality reduction in data. You have to fit 2 component PCA model to your preloaded dataset with 4 features. Ensure that the correct attribute is printed. Hint: Look at the format of the output. \n"
   ]
  },
  {
   "cell_type": "code",
   "execution_count": null,
   "id": "b23d1bf3",
   "metadata": {
    "deletable": false,
    "editable": false,
    "nbgrader": {
     "cell_type": "code",
     "checksum": "5a1e7b7593956a112cafa29d46f1fd2a",
     "grade": false,
     "grade_id": "pcaHint",
     "locked": true,
     "schema_version": 3,
     "solution": false,
     "task": false
    }
   },
   "outputs": [],
   "source": [
    "[3.66123805 0.03604607]"
   ]
  },
  {
   "cell_type": "code",
   "execution_count": null,
   "id": "8ae66d0a",
   "metadata": {
    "deletable": false,
    "nbgrader": {
     "cell_type": "code",
     "checksum": "7e54efa54c15198f9b38eb67240d0830",
     "grade": false,
     "grade_id": "pcamodel",
     "locked": false,
     "schema_version": 3,
     "solution": true,
     "task": false
    }
   },
   "outputs": [],
   "source": [
    "model = PCA(n_components=2)\n",
    "# YOUR CODE HERE\n",
    "raise NotImplementedError()"
   ]
  },
  {
   "cell_type": "code",
   "execution_count": null,
   "id": "9434c0a1",
   "metadata": {
    "deletable": false,
    "editable": false,
    "nbgrader": {
     "cell_type": "code",
     "checksum": "55a9b811e7bd5e2eb38dda59ecb0c8f5",
     "grade": true,
     "grade_id": "pcaW",
     "locked": true,
     "points": 5,
     "schema_version": 3,
     "solution": false,
     "task": false
    }
   },
   "outputs": [],
   "source": [
    "assert model.get_covariance().sum() == 6.288502908277401"
   ]
  },
  {
   "cell_type": "code",
   "execution_count": null,
   "id": "5288b055",
   "metadata": {},
   "outputs": [],
   "source": []
  }
 ],
 "metadata": {
  "kernelspec": {
   "display_name": "Python 3 (ipykernel)",
   "language": "python",
   "name": "python3"
  },
  "language_info": {
   "codemirror_mode": {
    "name": "ipython",
    "version": 3
   },
   "file_extension": ".py",
   "mimetype": "text/x-python",
   "name": "python",
   "nbconvert_exporter": "python",
   "pygments_lexer": "ipython3",
   "version": "3.9.6"
  }
 },
 "nbformat": 4,
 "nbformat_minor": 5
}
